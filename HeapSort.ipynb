{
  "nbformat": 4,
  "nbformat_minor": 0,
  "metadata": {
    "colab": {
      "name": "HeapSort.ipynb",
      "provenance": [],
      "authorship_tag": "ABX9TyN78rYJsmqEtxvL+ZC1yGvZ",
      "include_colab_link": true
    },
    "kernelspec": {
      "name": "python3",
      "display_name": "Python 3"
    },
    "language_info": {
      "name": "python"
    }
  },
  "cells": [
    {
      "cell_type": "markdown",
      "metadata": {
        "id": "view-in-github",
        "colab_type": "text"
      },
      "source": [
        "<a href=\"https://colab.research.google.com/github/Reethu-s/Coursera-test/blob/main/HeapSort.ipynb\" target=\"_parent\"><img src=\"https://colab.research.google.com/assets/colab-badge.svg\" alt=\"Open In Colab\"/></a>"
      ]
    },
    {
      "cell_type": "code",
      "metadata": {
        "colab": {
          "base_uri": "https://localhost:8080/"
        },
        "id": "TC8yOTNDRDc0",
        "outputId": "b358ed99-8fe2-4a15-a71a-f181bb4b61df"
      },
      "source": [
        "#S.REETHU AHMED\n",
        "#1961051\n",
        "#HEAPSORT\n",
        "\n",
        "def heapify(arr, n, i):\n",
        "    largest = i \n",
        "    l = 2 * i + 1     \n",
        "    r = 2 * i + 2     \n",
        "  \n",
        "    if l < n and arr[i] < arr[l]:\n",
        "        largest = l\n",
        "  \n",
        "    if r < n and arr[largest] < arr[r]:\n",
        "        largest = r\n",
        "  \n",
        "    if largest != i:\n",
        "        arr[i],arr[largest] = arr[largest],arr[i]  # swap\n",
        "  \n",
        "        heapify(arr, n, largest)\n",
        "  \n",
        "\n",
        "def heapSort(arr):\n",
        "    n = len(arr)\n",
        "  \n",
        "  \n",
        "    for i in range(n // 2 - 1, -1, -1):\n",
        "        heapify(arr, n, i)\n",
        "  \n",
        "    for i in range(n-1, 0, -1):\n",
        "        arr[i], arr[0] = arr[0], arr[i]  \n",
        "        heapify(arr, i, 0)\n",
        "  \n",
        "\n",
        "arr = [ 12, 11, 13, 5, 6, 7]\n",
        "heapSort(arr)\n",
        "n = len(arr)\n",
        "print (\"Sorted array is\")\n",
        "for i in range(n):\n",
        "    print (\"%d\" %arr[i]),\n"
      ],
      "execution_count": 3,
      "outputs": [
        {
          "output_type": "stream",
          "name": "stdout",
          "text": [
            "Sorted array is\n",
            "5\n",
            "6\n",
            "7\n",
            "11\n",
            "12\n",
            "13\n"
          ]
        }
      ]
    },
    {
      "cell_type": "code",
      "metadata": {
        "colab": {
          "base_uri": "https://localhost:8080/",
          "height": 469
        },
        "id": "lPHU609tTtV6",
        "outputId": "bd33752f-d438-46a4-e29d-6634ecfa496f"
      },
      "source": [
        "#TIME COMPLEXITY OF HEAPSORT\n",
        "\n",
        "import time\n",
        "import numpy as np\n",
        "import matplotlib.pyplot as plt\n",
        "\n",
        "def maxheap(a,i):\n",
        "    l=2*i\n",
        "    r=2*i +1\n",
        "    n= len(a)-1\n",
        "    if(l<=n and a[l]>a[i]):\n",
        "        large=l\n",
        "    else:\n",
        "        large=i\n",
        "    if(r<=n and a[r]>a[large]):\n",
        "        large=r\n",
        "    if(large!=i):\n",
        "        temp=a[i]\n",
        "        a[i]=a[large]\n",
        "        a[large]=a[i]\n",
        "        maxheap(a,large)\n",
        "        \n",
        "def build_heap(a): \n",
        "    leaf=int(len(a)/2)\n",
        "    for i in range(leaf -1, -1, -1): \n",
        "        maxheap(a, i) \n",
        "def heapsort(a):\n",
        "    build_heap(a)\n",
        "    n= len(a)-1\n",
        "    for i in range(int(n),0,-1):\n",
        "        a[i],a[0]=a[i],a[0] #easy way to swap elements directly\n",
        "        n=n-1\n",
        "        \n",
        "\n",
        "maxheap(a,0)\n",
        "dict1={}       \n",
        "for i in range(1,10):\n",
        "    a=np.random.randint(0,i*5000,i*1000)\n",
        "    st=time.process_time()\n",
        "    heapsort(a)\n",
        "    end=time.process_time()\n",
        "    dict1[len(a)]=(end-st)\n",
        "    print(\"Time taken by \" + str(len(a)) + \" numbers is \" + str(dict1[len(a)]))\n",
        "print(\"Following graph depicts the Time Complexity plot for heap sort:\")\n",
        "plt.xlabel(\"Elements in a heap\")\n",
        "plt.ylabel(\"Time\")\n",
        "plt.title(\"Heap Sort Time Complexity\")\n",
        "plt.plot(*zip(*sorted(dict1.items())))\n",
        "plt.show()\n"
      ],
      "execution_count": 5,
      "outputs": [
        {
          "output_type": "stream",
          "name": "stdout",
          "text": [
            "Time taken by 1000 numbers is 0.0016165409999997493\n",
            "Time taken by 2000 numbers is 0.003895151000000041\n",
            "Time taken by 3000 numbers is 0.005424567999999574\n",
            "Time taken by 4000 numbers is 0.0075545510000001315\n",
            "Time taken by 5000 numbers is 0.00816906199999945\n",
            "Time taken by 6000 numbers is 0.009757839999999796\n",
            "Time taken by 7000 numbers is 0.011702877999999473\n",
            "Time taken by 8000 numbers is 0.012955897999999522\n",
            "Time taken by 9000 numbers is 0.01453375300000026\n",
            "Following graph depicts the Time Complexity plot for heap sort:\n"
          ]
        },
        {
          "output_type": "display_data",
          "data": {
            "image/png": "[encoded data removed]",
            "text/plain": [
              "<Figure size 432x288 with 1 Axes>"
            ]
          },
          "metadata": {
            "needs_background": "light"
          }
        }
      ]
    },
    {
      "cell_type": "code",
      "metadata": {
        "id": "bKUPDjiWS79E"
      },
      "source": [
        ""
      ],
      "execution_count": null,
      "outputs": []
    }
  ]
}